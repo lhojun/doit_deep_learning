{
  "nbformat": 4,
  "nbformat_minor": 0,
  "metadata": {
    "colab": {
      "name": "DeepLearning Study",
      "provenance": [],
      "collapsed_sections": [],
      "toc_visible": true,
      "include_colab_link": true
    },
    "kernelspec": {
      "display_name": "Python 3",
      "name": "python3"
    }
  },
  "cells": [
    {
      "cell_type": "markdown",
      "metadata": {
        "id": "view-in-github",
        "colab_type": "text"
      },
      "source": [
        "<a href=\"https://colab.research.google.com/github/lhojun/doit_deep_learning/blob/main/DeepLearning_Study.ipynb\" target=\"_parent\"><img src=\"https://colab.research.google.com/assets/colab-badge.svg\" alt=\"Open In Colab\"/></a>"
      ]
    },
    {
      "cell_type": "markdown",
      "metadata": {
        "id": "5fCEDCU_qrC0"
      },
      "source": [
        "<p><img alt=\"Colaboratory logo\" height=\"45px\" src=\"/img/colab_favicon.ico\" align=\"left\" hspace=\"10px\" vspace=\"0px\"></p>\n",
        "\n",
        "<h1>Do it 딥러닝!</h1>\n",
        "<h2>* 1일차 - 12월 27일(일)</h2>\n"
      ]
    },
    {
      "cell_type": "code",
      "metadata": {
        "colab": {
          "base_uri": "https://localhost:8080/"
        },
        "id": "jgFayBjUdwCS",
        "outputId": "9f11f4ae-c105-4f8d-c6fb-00001d8a865c"
      },
      "source": [
        "print(\"Hello World!~\")"
      ],
      "execution_count": null,
      "outputs": [
        {
          "output_type": "stream",
          "text": [
            "Hello World!~\n"
          ],
          "name": "stdout"
        }
      ]
    },
    {
      "cell_type": "markdown",
      "metadata": {
        "id": "GJBs_flRovLc"
      },
      "source": [
        "## <strong>넘파이와 Matplotlib 다루기</strong>\n",
        "\n",
        "넘파이로 배열을 만든다.</br>\n",
        "np.array로 생성 가능.</br>\n",
        "type()으로 타입 확인 가능</br>"
      ]
    },
    {
      "cell_type": "code",
      "metadata": {
        "colab": {
          "base_uri": "https://localhost:8080/"
        },
        "id": "gJr_9dXGpJ05",
        "outputId": "cfc4fd9b-0a6c-4946-b3a5-581d0ca3d0b6"
      },
      "source": [
        "import numpy as np\n",
        "my_List = np.array([[1,2,3],[4,5,6]])\n",
        "print(my_List)\n",
        "type(my_List) #코드 셀의 마지막 줄은 print를 해주지 않아도 출력이 된다."
      ],
      "execution_count": null,
      "outputs": [
        {
          "output_type": "stream",
          "text": [
            "[[1 2 3]\n",
            " [4 5 6]]\n"
          ],
          "name": "stdout"
        },
        {
          "output_type": "execute_result",
          "data": {
            "text/plain": [
              "numpy.ndarray"
            ]
          },
          "metadata": {
            "tags": []
          },
          "execution_count": 3
        }
      ]
    },
    {
      "cell_type": "markdown",
      "metadata": {
        "id": "2fhs6GZ4qFMx"
      },
      "source": [
        "## Matplotlib</br>\n",
        "파이썬 과학 생태계의 표준 그래프 패키지</br>"
      ]
    },
    {
      "cell_type": "code",
      "metadata": {
        "colab": {
          "base_uri": "https://localhost:8080/",
          "height": 265
        },
        "id": "-gE-Ez1qtyIA",
        "outputId": "015b1e31-efa2-4aff-b2ee-2146658b81a8"
      },
      "source": [
        "import matplotlib.pyplot as plt\n",
        "plt.plot([1,2,3,4,5],[1,4,9,16,25]) #x축, y축 값을 전달\n",
        "plt.show() #그래프 출력"
      ],
      "execution_count": null,
      "outputs": [
        {
          "output_type": "display_data",
          "data": {
            "image/png": "[encoded data removed]",
            "text/plain": [
              "<Figure size 432x288 with 1 Axes>"
            ]
          },
          "metadata": {
            "tags": [],
            "needs_background": "light"
          }
        }
      ]
    },
    {
      "cell_type": "markdown",
      "metadata": {
        "id": "lSrWNr3MuFUS"
      },
      "source": [
        "###산점도를 그릴수도 있다.</br>\n",
        "산점도란 -> 데이터의 x축, y축을 이용하여 <strong>점</strong>으로 그래프를 그린다."
      ]
    },
    {
      "cell_type": "code",
      "metadata": {
        "colab": {
          "base_uri": "https://localhost:8080/",
          "height": 265
        },
        "id": "2-dJPUs3iqEc",
        "outputId": "55ae4bcb-95f6-4437-8124-9e1e9a39f996"
      },
      "source": [
        "plt.scatter([1,2,3,4,5],[1,4,9,16,25])\n",
        "plt.show()"
      ],
      "execution_count": null,
      "outputs": [
        {
          "output_type": "display_data",
          "data": {
            "image/png": "[encoded data removed]",
            "text/plain": [
              "<Figure size 432x288 with 1 Axes>"
            ]
          },
          "metadata": {
            "tags": [],
            "needs_background": "light"
          }
        }
      ]
    },
    {
      "cell_type": "markdown",
      "metadata": {
        "id": "F1rDJxv6i2Jz"
      },
      "source": [
        "### 넘파이 배열로 산점도 그리기\n",
        "넘파이 배열과 넘파이의 랜덤함수를 이용하여</br>\n",
        "표준 정규 분포를 따르는 난수를 생성한 뒤 산점도를 그림"
      ]
    },
    {
      "cell_type": "code",
      "metadata": {
        "colab": {
          "base_uri": "https://localhost:8080/",
          "height": 268
        },
        "id": "gjdWdOSkjBWx",
        "outputId": "17fc3d1c-a188-43b8-fd3e-300b7f76443e"
      },
      "source": [
        "import numpy as np\n",
        "import matplotlib.pyplot as plt\n",
        "\n",
        "x = np.random.randn(1000) #표준 정규 분포를 따르는 난수 1,000개 생성\n",
        "y = np.random.randn(1000) #표준 정규 분포를 따르는 난수 1,000개 생성\n",
        "plt.scatter(x,y)\n",
        "plt.show()"
      ],
      "execution_count": null,
      "outputs": [
        {
          "output_type": "display_data",
          "data": {
            "image/png": "[encoded data removed]",
            "text/plain": [
              "<Figure size 432x288 with 1 Axes>"
            ]
          },
          "metadata": {
            "tags": [],
            "needs_background": "light"
          }
        }
      ]
    }
  ]
}